{
 "cells": [
  {
   "cell_type": "code",
   "execution_count": 1,
   "id": "5444733a-83a0-4b7b-8cb1-b90b67a92855",
   "metadata": {},
   "outputs": [],
   "source": [
    "import pandas as pd\n",
    "import numpy as np\n",
    "import seaborn as sns\n",
    "import matplotlib.pyplot as plt"
   ]
  },
  {
   "cell_type": "code",
   "execution_count": 2,
   "id": "f946d750-c40c-4aac-8304-87dd36a0534a",
   "metadata": {},
   "outputs": [
    {
     "data": {
      "text/html": [
       "<div>\n",
       "<style scoped>\n",
       "    .dataframe tbody tr th:only-of-type {\n",
       "        vertical-align: middle;\n",
       "    }\n",
       "\n",
       "    .dataframe tbody tr th {\n",
       "        vertical-align: top;\n",
       "    }\n",
       "\n",
       "    .dataframe thead th {\n",
       "        text-align: right;\n",
       "    }\n",
       "</style>\n",
       "<table border=\"1\" class=\"dataframe\">\n",
       "  <thead>\n",
       "    <tr style=\"text-align: right;\">\n",
       "      <th></th>\n",
       "      <th>brand</th>\n",
       "      <th>km_driven</th>\n",
       "      <th>fuel</th>\n",
       "      <th>owner</th>\n",
       "      <th>selling_price</th>\n",
       "    </tr>\n",
       "  </thead>\n",
       "  <tbody>\n",
       "    <tr>\n",
       "      <th>0</th>\n",
       "      <td>Maruti</td>\n",
       "      <td>145500</td>\n",
       "      <td>Diesel</td>\n",
       "      <td>First Owner</td>\n",
       "      <td>450000</td>\n",
       "    </tr>\n",
       "    <tr>\n",
       "      <th>1</th>\n",
       "      <td>Skoda</td>\n",
       "      <td>120000</td>\n",
       "      <td>Diesel</td>\n",
       "      <td>Second Owner</td>\n",
       "      <td>370000</td>\n",
       "    </tr>\n",
       "    <tr>\n",
       "      <th>2</th>\n",
       "      <td>Honda</td>\n",
       "      <td>140000</td>\n",
       "      <td>Petrol</td>\n",
       "      <td>Third Owner</td>\n",
       "      <td>158000</td>\n",
       "    </tr>\n",
       "    <tr>\n",
       "      <th>3</th>\n",
       "      <td>Hyundai</td>\n",
       "      <td>127000</td>\n",
       "      <td>Diesel</td>\n",
       "      <td>First Owner</td>\n",
       "      <td>225000</td>\n",
       "    </tr>\n",
       "    <tr>\n",
       "      <th>4</th>\n",
       "      <td>Maruti</td>\n",
       "      <td>120000</td>\n",
       "      <td>Petrol</td>\n",
       "      <td>First Owner</td>\n",
       "      <td>130000</td>\n",
       "    </tr>\n",
       "  </tbody>\n",
       "</table>\n",
       "</div>"
      ],
      "text/plain": [
       "     brand  km_driven    fuel         owner  selling_price\n",
       "0   Maruti     145500  Diesel   First Owner         450000\n",
       "1    Skoda     120000  Diesel  Second Owner         370000\n",
       "2    Honda     140000  Petrol   Third Owner         158000\n",
       "3  Hyundai     127000  Diesel   First Owner         225000\n",
       "4   Maruti     120000  Petrol   First Owner         130000"
      ]
     },
     "execution_count": 2,
     "metadata": {},
     "output_type": "execute_result"
    }
   ],
   "source": [
    "df = pd.read_csv('data/cars.csv')\n",
    "df.head()"
   ]
  },
  {
   "cell_type": "code",
   "execution_count": 3,
   "id": "d889cc58-99df-40cf-8114-c8e741e660c9",
   "metadata": {},
   "outputs": [
    {
     "name": "stdout",
     "output_type": "stream",
     "text": [
      "<class 'pandas.core.frame.DataFrame'>\n",
      "RangeIndex: 8128 entries, 0 to 8127\n",
      "Data columns (total 5 columns):\n",
      " #   Column         Non-Null Count  Dtype \n",
      "---  ------         --------------  ----- \n",
      " 0   brand          8128 non-null   object\n",
      " 1   km_driven      8128 non-null   int64 \n",
      " 2   fuel           8128 non-null   object\n",
      " 3   owner          8128 non-null   object\n",
      " 4   selling_price  8128 non-null   int64 \n",
      "dtypes: int64(2), object(3)\n",
      "memory usage: 317.6+ KB\n"
     ]
    }
   ],
   "source": [
    "df.info()"
   ]
  },
  {
   "cell_type": "code",
   "execution_count": 4,
   "id": "7c2f89b1-59cb-403f-91df-43b8ae99818b",
   "metadata": {},
   "outputs": [
    {
     "data": {
      "text/html": [
       "<div>\n",
       "<style scoped>\n",
       "    .dataframe tbody tr th:only-of-type {\n",
       "        vertical-align: middle;\n",
       "    }\n",
       "\n",
       "    .dataframe tbody tr th {\n",
       "        vertical-align: top;\n",
       "    }\n",
       "\n",
       "    .dataframe thead th {\n",
       "        text-align: right;\n",
       "    }\n",
       "</style>\n",
       "<table border=\"1\" class=\"dataframe\">\n",
       "  <thead>\n",
       "    <tr style=\"text-align: right;\">\n",
       "      <th></th>\n",
       "      <th>km_driven</th>\n",
       "      <th>selling_price</th>\n",
       "    </tr>\n",
       "  </thead>\n",
       "  <tbody>\n",
       "    <tr>\n",
       "      <th>count</th>\n",
       "      <td>8.128000e+03</td>\n",
       "      <td>8.128000e+03</td>\n",
       "    </tr>\n",
       "    <tr>\n",
       "      <th>mean</th>\n",
       "      <td>6.981951e+04</td>\n",
       "      <td>6.382718e+05</td>\n",
       "    </tr>\n",
       "    <tr>\n",
       "      <th>std</th>\n",
       "      <td>5.655055e+04</td>\n",
       "      <td>8.062534e+05</td>\n",
       "    </tr>\n",
       "    <tr>\n",
       "      <th>min</th>\n",
       "      <td>1.000000e+00</td>\n",
       "      <td>2.999900e+04</td>\n",
       "    </tr>\n",
       "    <tr>\n",
       "      <th>25%</th>\n",
       "      <td>3.500000e+04</td>\n",
       "      <td>2.549990e+05</td>\n",
       "    </tr>\n",
       "    <tr>\n",
       "      <th>50%</th>\n",
       "      <td>6.000000e+04</td>\n",
       "      <td>4.500000e+05</td>\n",
       "    </tr>\n",
       "    <tr>\n",
       "      <th>75%</th>\n",
       "      <td>9.800000e+04</td>\n",
       "      <td>6.750000e+05</td>\n",
       "    </tr>\n",
       "    <tr>\n",
       "      <th>max</th>\n",
       "      <td>2.360457e+06</td>\n",
       "      <td>1.000000e+07</td>\n",
       "    </tr>\n",
       "  </tbody>\n",
       "</table>\n",
       "</div>"
      ],
      "text/plain": [
       "          km_driven  selling_price\n",
       "count  8.128000e+03   8.128000e+03\n",
       "mean   6.981951e+04   6.382718e+05\n",
       "std    5.655055e+04   8.062534e+05\n",
       "min    1.000000e+00   2.999900e+04\n",
       "25%    3.500000e+04   2.549990e+05\n",
       "50%    6.000000e+04   4.500000e+05\n",
       "75%    9.800000e+04   6.750000e+05\n",
       "max    2.360457e+06   1.000000e+07"
      ]
     },
     "execution_count": 4,
     "metadata": {},
     "output_type": "execute_result"
    }
   ],
   "source": [
    "df.describe()"
   ]
  },
  {
   "cell_type": "code",
   "execution_count": 5,
   "id": "296b76c5-b1dd-471a-97ea-467d084862c0",
   "metadata": {},
   "outputs": [
    {
     "data": {
      "text/plain": [
       "brand            0\n",
       "km_driven        0\n",
       "fuel             0\n",
       "owner            0\n",
       "selling_price    0\n",
       "dtype: int64"
      ]
     },
     "execution_count": 5,
     "metadata": {},
     "output_type": "execute_result"
    }
   ],
   "source": [
    "df.isnull().sum()"
   ]
  },
  {
   "cell_type": "code",
   "execution_count": 6,
   "id": "5455fd44-97f4-4762-9141-eda16d6a2d71",
   "metadata": {},
   "outputs": [
    {
     "data": {
      "text/plain": [
       "32"
      ]
     },
     "execution_count": 6,
     "metadata": {},
     "output_type": "execute_result"
    }
   ],
   "source": [
    "#finding number of unique values\n",
    "df['brand'].nunique()"
   ]
  },
  {
   "cell_type": "code",
   "execution_count": 7,
   "id": "4ca92614-8048-422d-b2e8-967f59750aa8",
   "metadata": {},
   "outputs": [
    {
     "data": {
      "text/plain": [
       "array(['Maruti', 'Skoda', 'Honda', 'Hyundai', 'Toyota', 'Ford', 'Renault',\n",
       "       'Mahindra', 'Tata', 'Chevrolet', 'Fiat', 'Datsun', 'Jeep',\n",
       "       'Mercedes-Benz', 'Mitsubishi', 'Audi', 'Volkswagen', 'BMW',\n",
       "       'Nissan', 'Lexus', 'Jaguar', 'Land', 'MG', 'Volvo', 'Daewoo',\n",
       "       'Kia', 'Force', 'Ambassador', 'Ashok', 'Isuzu', 'Opel', 'Peugeot'],\n",
       "      dtype=object)"
      ]
     },
     "execution_count": 7,
     "metadata": {},
     "output_type": "execute_result"
    }
   ],
   "source": [
    "df['brand'].unique()"
   ]
  },
  {
   "cell_type": "code",
   "execution_count": 8,
   "id": "f493ce95-e441-4ce4-b401-e2e79b7f9476",
   "metadata": {},
   "outputs": [
    {
     "data": {
      "text/plain": [
       "brand\n",
       "Maruti           2448\n",
       "Hyundai          1415\n",
       "Mahindra          772\n",
       "Tata              734\n",
       "Toyota            488\n",
       "Honda             467\n",
       "Ford              397\n",
       "Chevrolet         230\n",
       "Renault           228\n",
       "Volkswagen        186\n",
       "BMW               120\n",
       "Skoda             105\n",
       "Nissan             81\n",
       "Jaguar             71\n",
       "Volvo              67\n",
       "Datsun             65\n",
       "Mercedes-Benz      54\n",
       "Fiat               47\n",
       "Audi               40\n",
       "Lexus              34\n",
       "Jeep               31\n",
       "Mitsubishi         14\n",
       "Force               6\n",
       "Land                6\n",
       "Isuzu               5\n",
       "Kia                 4\n",
       "Ambassador          4\n",
       "Daewoo              3\n",
       "MG                  3\n",
       "Ashok               1\n",
       "Opel                1\n",
       "Peugeot             1\n",
       "Name: count, dtype: int64"
      ]
     },
     "execution_count": 8,
     "metadata": {},
     "output_type": "execute_result"
    }
   ],
   "source": [
    "df['brand'].value_counts()"
   ]
  },
  {
   "cell_type": "code",
   "execution_count": 9,
   "id": "bf60615c-5607-4dda-9c1d-b1735f46abb5",
   "metadata": {},
   "outputs": [
    {
     "data": {
      "text/plain": [
       "4"
      ]
     },
     "execution_count": 9,
     "metadata": {},
     "output_type": "execute_result"
    }
   ],
   "source": [
    "df['fuel'].nunique()"
   ]
  },
  {
   "cell_type": "code",
   "execution_count": 10,
   "id": "9a4f47ee-a8ef-40a9-a94b-b8f0c0fd4bbe",
   "metadata": {},
   "outputs": [
    {
     "data": {
      "text/plain": [
       "array(['Diesel', 'Petrol', 'LPG', 'CNG'], dtype=object)"
      ]
     },
     "execution_count": 10,
     "metadata": {},
     "output_type": "execute_result"
    }
   ],
   "source": [
    "df['fuel'].unique()"
   ]
  },
  {
   "cell_type": "code",
   "execution_count": 11,
   "id": "12690bf3-7750-40a7-8de6-6400507fd538",
   "metadata": {},
   "outputs": [
    {
     "data": {
      "text/plain": [
       "fuel\n",
       "Diesel    4402\n",
       "Petrol    3631\n",
       "CNG         57\n",
       "LPG         38\n",
       "Name: count, dtype: int64"
      ]
     },
     "execution_count": 11,
     "metadata": {},
     "output_type": "execute_result"
    }
   ],
   "source": [
    "df['fuel'].value_counts()"
   ]
  },
  {
   "cell_type": "code",
   "execution_count": 12,
   "id": "0e0ee5e3-ef7e-4fe3-8977-13fa6a3be112",
   "metadata": {},
   "outputs": [
    {
     "data": {
      "text/plain": [
       "5"
      ]
     },
     "execution_count": 12,
     "metadata": {},
     "output_type": "execute_result"
    }
   ],
   "source": [
    "df['owner'].nunique()"
   ]
  },
  {
   "cell_type": "code",
   "execution_count": 13,
   "id": "a89678d7-a968-4203-8c31-2a8073f56f1e",
   "metadata": {},
   "outputs": [
    {
     "data": {
      "text/plain": [
       "array(['First Owner', 'Second Owner', 'Third Owner',\n",
       "       'Fourth & Above Owner', 'Test Drive Car'], dtype=object)"
      ]
     },
     "execution_count": 13,
     "metadata": {},
     "output_type": "execute_result"
    }
   ],
   "source": [
    "df['owner'].unique()"
   ]
  },
  {
   "cell_type": "code",
   "execution_count": 14,
   "id": "724864e7-0ec8-4214-a0d9-b5ad62a6a7c6",
   "metadata": {},
   "outputs": [
    {
     "data": {
      "text/plain": [
       "owner\n",
       "First Owner             5289\n",
       "Second Owner            2105\n",
       "Third Owner              555\n",
       "Fourth & Above Owner     174\n",
       "Test Drive Car             5\n",
       "Name: count, dtype: int64"
      ]
     },
     "execution_count": 14,
     "metadata": {},
     "output_type": "execute_result"
    }
   ],
   "source": [
    "df['owner'].value_counts()"
   ]
  },
  {
   "cell_type": "markdown",
   "id": "bd6774ee-8374-4cc3-a2f2-d924e600013a",
   "metadata": {},
   "source": [
    "## One Hot Encoding using scikit learn"
   ]
  },
  {
   "cell_type": "code",
   "execution_count": 15,
   "id": "206a0212-db88-4fc6-8944-caaf172d4f01",
   "metadata": {},
   "outputs": [
    {
     "data": {
      "text/html": [
       "<div>\n",
       "<style scoped>\n",
       "    .dataframe tbody tr th:only-of-type {\n",
       "        vertical-align: middle;\n",
       "    }\n",
       "\n",
       "    .dataframe tbody tr th {\n",
       "        vertical-align: top;\n",
       "    }\n",
       "\n",
       "    .dataframe thead th {\n",
       "        text-align: right;\n",
       "    }\n",
       "</style>\n",
       "<table border=\"1\" class=\"dataframe\">\n",
       "  <thead>\n",
       "    <tr style=\"text-align: right;\">\n",
       "      <th></th>\n",
       "      <th>brand</th>\n",
       "      <th>km_driven</th>\n",
       "      <th>fuel</th>\n",
       "      <th>owner</th>\n",
       "    </tr>\n",
       "  </thead>\n",
       "  <tbody>\n",
       "    <tr>\n",
       "      <th>0</th>\n",
       "      <td>Maruti</td>\n",
       "      <td>145500</td>\n",
       "      <td>Diesel</td>\n",
       "      <td>First Owner</td>\n",
       "    </tr>\n",
       "    <tr>\n",
       "      <th>1</th>\n",
       "      <td>Skoda</td>\n",
       "      <td>120000</td>\n",
       "      <td>Diesel</td>\n",
       "      <td>Second Owner</td>\n",
       "    </tr>\n",
       "    <tr>\n",
       "      <th>2</th>\n",
       "      <td>Honda</td>\n",
       "      <td>140000</td>\n",
       "      <td>Petrol</td>\n",
       "      <td>Third Owner</td>\n",
       "    </tr>\n",
       "    <tr>\n",
       "      <th>3</th>\n",
       "      <td>Hyundai</td>\n",
       "      <td>127000</td>\n",
       "      <td>Diesel</td>\n",
       "      <td>First Owner</td>\n",
       "    </tr>\n",
       "    <tr>\n",
       "      <th>4</th>\n",
       "      <td>Maruti</td>\n",
       "      <td>120000</td>\n",
       "      <td>Petrol</td>\n",
       "      <td>First Owner</td>\n",
       "    </tr>\n",
       "  </tbody>\n",
       "</table>\n",
       "</div>"
      ],
      "text/plain": [
       "     brand  km_driven    fuel         owner\n",
       "0   Maruti     145500  Diesel   First Owner\n",
       "1    Skoda     120000  Diesel  Second Owner\n",
       "2    Honda     140000  Petrol   Third Owner\n",
       "3  Hyundai     127000  Diesel   First Owner\n",
       "4   Maruti     120000  Petrol   First Owner"
      ]
     },
     "execution_count": 15,
     "metadata": {},
     "output_type": "execute_result"
    }
   ],
   "source": [
    "x= df.drop(columns=['selling_price'])\n",
    "x.head()"
   ]
  },
  {
   "cell_type": "code",
   "execution_count": 16,
   "id": "32223aef-7720-4b49-b065-854c54dc8545",
   "metadata": {},
   "outputs": [
    {
     "data": {
      "text/plain": [
       "0    450000\n",
       "1    370000\n",
       "2    158000\n",
       "3    225000\n",
       "4    130000\n",
       "Name: selling_price, dtype: int64"
      ]
     },
     "execution_count": 16,
     "metadata": {},
     "output_type": "execute_result"
    }
   ],
   "source": [
    "y= df['selling_price']\n",
    "y.head()"
   ]
  },
  {
   "cell_type": "code",
   "execution_count": 17,
   "id": "8c339f2c-5c00-4f88-8429-af0390e1562b",
   "metadata": {},
   "outputs": [],
   "source": [
    "from sklearn.model_selection import train_test_split\n",
    "x_train,x_test,y_train,y_test = train_test_split(x,y,test_size=0.2,random_state=45)"
   ]
  },
  {
   "cell_type": "code",
   "execution_count": 18,
   "id": "618de637-be0e-4d25-9269-82c37cd105ab",
   "metadata": {},
   "outputs": [
    {
     "data": {
      "text/html": [
       "<div>\n",
       "<style scoped>\n",
       "    .dataframe tbody tr th:only-of-type {\n",
       "        vertical-align: middle;\n",
       "    }\n",
       "\n",
       "    .dataframe tbody tr th {\n",
       "        vertical-align: top;\n",
       "    }\n",
       "\n",
       "    .dataframe thead th {\n",
       "        text-align: right;\n",
       "    }\n",
       "</style>\n",
       "<table border=\"1\" class=\"dataframe\">\n",
       "  <thead>\n",
       "    <tr style=\"text-align: right;\">\n",
       "      <th></th>\n",
       "      <th>brand</th>\n",
       "      <th>km_driven</th>\n",
       "      <th>fuel</th>\n",
       "      <th>owner</th>\n",
       "    </tr>\n",
       "  </thead>\n",
       "  <tbody>\n",
       "    <tr>\n",
       "      <th>5181</th>\n",
       "      <td>Renault</td>\n",
       "      <td>50000</td>\n",
       "      <td>Diesel</td>\n",
       "      <td>First Owner</td>\n",
       "    </tr>\n",
       "    <tr>\n",
       "      <th>2024</th>\n",
       "      <td>Tata</td>\n",
       "      <td>74000</td>\n",
       "      <td>Petrol</td>\n",
       "      <td>Second Owner</td>\n",
       "    </tr>\n",
       "    <tr>\n",
       "      <th>6203</th>\n",
       "      <td>Skoda</td>\n",
       "      <td>40000</td>\n",
       "      <td>Diesel</td>\n",
       "      <td>First Owner</td>\n",
       "    </tr>\n",
       "    <tr>\n",
       "      <th>7026</th>\n",
       "      <td>Tata</td>\n",
       "      <td>28000</td>\n",
       "      <td>Petrol</td>\n",
       "      <td>Second Owner</td>\n",
       "    </tr>\n",
       "    <tr>\n",
       "      <th>5837</th>\n",
       "      <td>Tata</td>\n",
       "      <td>5000</td>\n",
       "      <td>Petrol</td>\n",
       "      <td>First Owner</td>\n",
       "    </tr>\n",
       "  </tbody>\n",
       "</table>\n",
       "</div>"
      ],
      "text/plain": [
       "        brand  km_driven    fuel         owner\n",
       "5181  Renault      50000  Diesel   First Owner\n",
       "2024     Tata      74000  Petrol  Second Owner\n",
       "6203    Skoda      40000  Diesel   First Owner\n",
       "7026     Tata      28000  Petrol  Second Owner\n",
       "5837     Tata       5000  Petrol   First Owner"
      ]
     },
     "execution_count": 18,
     "metadata": {},
     "output_type": "execute_result"
    }
   ],
   "source": [
    "x_train.head()"
   ]
  },
  {
   "cell_type": "code",
   "execution_count": 19,
   "id": "5968ec70-52cc-4c6a-9205-daf17de4c9af",
   "metadata": {},
   "outputs": [
    {
     "data": {
      "text/html": [
       "<div>\n",
       "<style scoped>\n",
       "    .dataframe tbody tr th:only-of-type {\n",
       "        vertical-align: middle;\n",
       "    }\n",
       "\n",
       "    .dataframe tbody tr th {\n",
       "        vertical-align: top;\n",
       "    }\n",
       "\n",
       "    .dataframe thead th {\n",
       "        text-align: right;\n",
       "    }\n",
       "</style>\n",
       "<table border=\"1\" class=\"dataframe\">\n",
       "  <thead>\n",
       "    <tr style=\"text-align: right;\">\n",
       "      <th></th>\n",
       "      <th>brand</th>\n",
       "      <th>km_driven</th>\n",
       "      <th>fuel</th>\n",
       "      <th>owner</th>\n",
       "    </tr>\n",
       "  </thead>\n",
       "  <tbody>\n",
       "    <tr>\n",
       "      <th>1460</th>\n",
       "      <td>Maruti</td>\n",
       "      <td>25000</td>\n",
       "      <td>Petrol</td>\n",
       "      <td>First Owner</td>\n",
       "    </tr>\n",
       "    <tr>\n",
       "      <th>3293</th>\n",
       "      <td>Renault</td>\n",
       "      <td>40000</td>\n",
       "      <td>Petrol</td>\n",
       "      <td>First Owner</td>\n",
       "    </tr>\n",
       "    <tr>\n",
       "      <th>738</th>\n",
       "      <td>Renault</td>\n",
       "      <td>35000</td>\n",
       "      <td>Petrol</td>\n",
       "      <td>First Owner</td>\n",
       "    </tr>\n",
       "    <tr>\n",
       "      <th>1415</th>\n",
       "      <td>Volkswagen</td>\n",
       "      <td>70000</td>\n",
       "      <td>Diesel</td>\n",
       "      <td>Fourth &amp; Above Owner</td>\n",
       "    </tr>\n",
       "    <tr>\n",
       "      <th>1600</th>\n",
       "      <td>Tata</td>\n",
       "      <td>100000</td>\n",
       "      <td>Diesel</td>\n",
       "      <td>First Owner</td>\n",
       "    </tr>\n",
       "  </tbody>\n",
       "</table>\n",
       "</div>"
      ],
      "text/plain": [
       "           brand  km_driven    fuel                 owner\n",
       "1460      Maruti      25000  Petrol           First Owner\n",
       "3293     Renault      40000  Petrol           First Owner\n",
       "738      Renault      35000  Petrol           First Owner\n",
       "1415  Volkswagen      70000  Diesel  Fourth & Above Owner\n",
       "1600        Tata     100000  Diesel           First Owner"
      ]
     },
     "execution_count": 19,
     "metadata": {},
     "output_type": "execute_result"
    }
   ],
   "source": [
    "x_test.head()"
   ]
  },
  {
   "cell_type": "code",
   "execution_count": 20,
   "id": "5c7efe12-82b6-43ca-a7e5-d8e37b4dc069",
   "metadata": {},
   "outputs": [
    {
     "data": {
      "text/plain": [
       "5181    880000\n",
       "2024     90000\n",
       "6203    900000\n",
       "7026    380000\n",
       "5837    537000\n",
       "Name: selling_price, dtype: int64"
      ]
     },
     "execution_count": 20,
     "metadata": {},
     "output_type": "execute_result"
    }
   ],
   "source": [
    "y_train.head()"
   ]
  },
  {
   "cell_type": "code",
   "execution_count": 21,
   "id": "1e6cf415-d463-4769-bf97-8eba2d2014a8",
   "metadata": {},
   "outputs": [
    {
     "data": {
      "text/plain": [
       "1460    560000\n",
       "3293    450000\n",
       "738     300000\n",
       "1415    229999\n",
       "1600    850000\n",
       "Name: selling_price, dtype: int64"
      ]
     },
     "execution_count": 21,
     "metadata": {},
     "output_type": "execute_result"
    }
   ],
   "source": [
    "y_test.head()"
   ]
  },
  {
   "cell_type": "code",
   "execution_count": 22,
   "id": "dcab490d-af9a-450d-9dc4-c2d88c53625c",
   "metadata": {},
   "outputs": [],
   "source": [
    "from sklearn.preprocessing import OneHotEncoder"
   ]
  },
  {
   "cell_type": "code",
   "execution_count": 23,
   "id": "13f2b8b8-455d-4ad8-9163-96d9d67be987",
   "metadata": {},
   "outputs": [
    {
     "data": {
      "text/html": [
       "<style>#sk-container-id-1 {color: black;background-color: white;}#sk-container-id-1 pre{padding: 0;}#sk-container-id-1 div.sk-toggleable {background-color: white;}#sk-container-id-1 label.sk-toggleable__label {cursor: pointer;display: block;width: 100%;margin-bottom: 0;padding: 0.3em;box-sizing: border-box;text-align: center;}#sk-container-id-1 label.sk-toggleable__label-arrow:before {content: \"▸\";float: left;margin-right: 0.25em;color: #696969;}#sk-container-id-1 label.sk-toggleable__label-arrow:hover:before {color: black;}#sk-container-id-1 div.sk-estimator:hover label.sk-toggleable__label-arrow:before {color: black;}#sk-container-id-1 div.sk-toggleable__content {max-height: 0;max-width: 0;overflow: hidden;text-align: left;background-color: #f0f8ff;}#sk-container-id-1 div.sk-toggleable__content pre {margin: 0.2em;color: black;border-radius: 0.25em;background-color: #f0f8ff;}#sk-container-id-1 input.sk-toggleable__control:checked~div.sk-toggleable__content {max-height: 200px;max-width: 100%;overflow: auto;}#sk-container-id-1 input.sk-toggleable__control:checked~label.sk-toggleable__label-arrow:before {content: \"▾\";}#sk-container-id-1 div.sk-estimator input.sk-toggleable__control:checked~label.sk-toggleable__label {background-color: #d4ebff;}#sk-container-id-1 div.sk-label input.sk-toggleable__control:checked~label.sk-toggleable__label {background-color: #d4ebff;}#sk-container-id-1 input.sk-hidden--visually {border: 0;clip: rect(1px 1px 1px 1px);clip: rect(1px, 1px, 1px, 1px);height: 1px;margin: -1px;overflow: hidden;padding: 0;position: absolute;width: 1px;}#sk-container-id-1 div.sk-estimator {font-family: monospace;background-color: #f0f8ff;border: 1px dotted black;border-radius: 0.25em;box-sizing: border-box;margin-bottom: 0.5em;}#sk-container-id-1 div.sk-estimator:hover {background-color: #d4ebff;}#sk-container-id-1 div.sk-parallel-item::after {content: \"\";width: 100%;border-bottom: 1px solid gray;flex-grow: 1;}#sk-container-id-1 div.sk-label:hover label.sk-toggleable__label {background-color: #d4ebff;}#sk-container-id-1 div.sk-serial::before {content: \"\";position: absolute;border-left: 1px solid gray;box-sizing: border-box;top: 0;bottom: 0;left: 50%;z-index: 0;}#sk-container-id-1 div.sk-serial {display: flex;flex-direction: column;align-items: center;background-color: white;padding-right: 0.2em;padding-left: 0.2em;position: relative;}#sk-container-id-1 div.sk-item {position: relative;z-index: 1;}#sk-container-id-1 div.sk-parallel {display: flex;align-items: stretch;justify-content: center;background-color: white;position: relative;}#sk-container-id-1 div.sk-item::before, #sk-container-id-1 div.sk-parallel-item::before {content: \"\";position: absolute;border-left: 1px solid gray;box-sizing: border-box;top: 0;bottom: 0;left: 50%;z-index: -1;}#sk-container-id-1 div.sk-parallel-item {display: flex;flex-direction: column;z-index: 1;position: relative;background-color: white;}#sk-container-id-1 div.sk-parallel-item:first-child::after {align-self: flex-end;width: 50%;}#sk-container-id-1 div.sk-parallel-item:last-child::after {align-self: flex-start;width: 50%;}#sk-container-id-1 div.sk-parallel-item:only-child::after {width: 0;}#sk-container-id-1 div.sk-dashed-wrapped {border: 1px dashed gray;margin: 0 0.4em 0.5em 0.4em;box-sizing: border-box;padding-bottom: 0.4em;background-color: white;}#sk-container-id-1 div.sk-label label {font-family: monospace;font-weight: bold;display: inline-block;line-height: 1.2em;}#sk-container-id-1 div.sk-label-container {text-align: center;}#sk-container-id-1 div.sk-container {/* jupyter's `normalize.less` sets `[hidden] { display: none; }` but bootstrap.min.css set `[hidden] { display: none !important; }` so we also need the `!important` here to be able to override the default hidden behavior on the sphinx rendered scikit-learn.org. See: https://github.com/scikit-learn/scikit-learn/issues/21755 */display: inline-block !important;position: relative;}#sk-container-id-1 div.sk-text-repr-fallback {display: none;}</style><div id=\"sk-container-id-1\" class=\"sk-top-container\"><div class=\"sk-text-repr-fallback\"><pre>OneHotEncoder(drop=&#x27;first&#x27;, dtype=&lt;class &#x27;numpy.int32&#x27;&gt;, sparse_output=False)</pre><b>In a Jupyter environment, please rerun this cell to show the HTML representation or trust the notebook. <br />On GitHub, the HTML representation is unable to render, please try loading this page with nbviewer.org.</b></div><div class=\"sk-container\" hidden><div class=\"sk-item\"><div class=\"sk-estimator sk-toggleable\"><input class=\"sk-toggleable__control sk-hidden--visually\" id=\"sk-estimator-id-1\" type=\"checkbox\" checked><label for=\"sk-estimator-id-1\" class=\"sk-toggleable__label sk-toggleable__label-arrow\">OneHotEncoder</label><div class=\"sk-toggleable__content\"><pre>OneHotEncoder(drop=&#x27;first&#x27;, dtype=&lt;class &#x27;numpy.int32&#x27;&gt;, sparse_output=False)</pre></div></div></div></div></div>"
      ],
      "text/plain": [
       "OneHotEncoder(drop='first', dtype=<class 'numpy.int32'>, sparse_output=False)"
      ]
     },
     "execution_count": 23,
     "metadata": {},
     "output_type": "execute_result"
    }
   ],
   "source": [
    "ohe = OneHotEncoder(drop='first', sparse_output=False, dtype=np.int32)\n",
    "ohe"
   ]
  },
  {
   "cell_type": "code",
   "execution_count": 24,
   "id": "7d563fc4-0481-474e-9633-db9c972b1b96",
   "metadata": {},
   "outputs": [
    {
     "data": {
      "text/plain": [
       "array([[1, 0, 0, ..., 0, 0, 0],\n",
       "       [0, 0, 1, ..., 1, 0, 0],\n",
       "       [1, 0, 0, ..., 0, 0, 0],\n",
       "       ...,\n",
       "       [1, 0, 0, ..., 0, 0, 0],\n",
       "       [1, 0, 0, ..., 0, 0, 0],\n",
       "       [1, 0, 0, ..., 1, 0, 0]])"
      ]
     },
     "execution_count": 24,
     "metadata": {},
     "output_type": "execute_result"
    }
   ],
   "source": [
    "x_train_new = ohe.fit_transform(x_train[['fuel','owner']])\n",
    "x_train_new"
   ]
  },
  {
   "cell_type": "code",
   "execution_count": 25,
   "id": "fa1adc9d-5014-4500-8782-81d6d91d1cd7",
   "metadata": {},
   "outputs": [
    {
     "data": {
      "text/plain": [
       "array([[0, 0, 1, ..., 0, 0, 0],\n",
       "       [0, 0, 1, ..., 0, 0, 0],\n",
       "       [0, 0, 1, ..., 0, 0, 0],\n",
       "       ...,\n",
       "       [1, 0, 0, ..., 0, 0, 1],\n",
       "       [1, 0, 0, ..., 0, 0, 1],\n",
       "       [1, 0, 0, ..., 0, 0, 0]])"
      ]
     },
     "execution_count": 25,
     "metadata": {},
     "output_type": "execute_result"
    }
   ],
   "source": [
    "x_test_new = ohe.transform(x_test[['fuel','owner']])\n",
    "x_test_new"
   ]
  },
  {
   "cell_type": "code",
   "execution_count": 26,
   "id": "0936e4f2-3479-4750-bded-ba7e599adb74",
   "metadata": {},
   "outputs": [
    {
     "data": {
      "text/plain": [
       "(6502, 7)"
      ]
     },
     "execution_count": 26,
     "metadata": {},
     "output_type": "execute_result"
    }
   ],
   "source": [
    "x_train_new.shape"
   ]
  },
  {
   "cell_type": "code",
   "execution_count": 27,
   "id": "0c608325-1465-4251-9c95-8c5cbc36af4f",
   "metadata": {},
   "outputs": [
    {
     "data": {
      "text/plain": [
       "(1626, 7)"
      ]
     },
     "execution_count": 27,
     "metadata": {},
     "output_type": "execute_result"
    }
   ],
   "source": [
    "x_test_new.shape"
   ]
  },
  {
   "cell_type": "code",
   "execution_count": 28,
   "id": "d58d1197-791e-4313-8ee2-2f2684ac8dfe",
   "metadata": {},
   "outputs": [
    {
     "data": {
      "text/plain": [
       "array([['Renault', 50000],\n",
       "       ['Tata', 74000],\n",
       "       ['Skoda', 40000],\n",
       "       ...,\n",
       "       ['Hyundai', 76460],\n",
       "       ['Volvo', 20000],\n",
       "       ['Tata', 120000]], dtype=object)"
      ]
     },
     "execution_count": 28,
     "metadata": {},
     "output_type": "execute_result"
    }
   ],
   "source": [
    "x_train[['brand','km_driven']].values"
   ]
  },
  {
   "cell_type": "code",
   "execution_count": 29,
   "id": "572dbbea-0169-4d80-b3e4-13df4f8e9be3",
   "metadata": {},
   "outputs": [
    {
     "data": {
      "text/plain": [
       "array([['Renault', 50000, 1, ..., 0, 0, 0],\n",
       "       ['Tata', 74000, 0, ..., 1, 0, 0],\n",
       "       ['Skoda', 40000, 1, ..., 0, 0, 0],\n",
       "       ...,\n",
       "       ['Hyundai', 76460, 1, ..., 0, 0, 0],\n",
       "       ['Volvo', 20000, 1, ..., 0, 0, 0],\n",
       "       ['Tata', 120000, 1, ..., 1, 0, 0]], dtype=object)"
      ]
     },
     "execution_count": 29,
     "metadata": {},
     "output_type": "execute_result"
    }
   ],
   "source": [
    "np.hstack((x_train[['brand','km_driven']].values, x_train_new))"
   ]
  },
  {
   "cell_type": "code",
   "execution_count": 30,
   "id": "e82b4a5b-08da-4aa0-8780-4413b1cb6e9a",
   "metadata": {},
   "outputs": [
    {
     "data": {
      "text/plain": [
       "(6502, 9)"
      ]
     },
     "execution_count": 30,
     "metadata": {},
     "output_type": "execute_result"
    }
   ],
   "source": [
    "np.hstack((x_train[['brand','km_driven']].values, x_train_new)).shape"
   ]
  },
  {
   "cell_type": "markdown",
   "id": "7e83b044-f0fc-490b-8ba9-fba6d19d2cf0",
   "metadata": {},
   "source": [
    "## One Hot Encoding With Top Categories"
   ]
  },
  {
   "cell_type": "code",
   "execution_count": 31,
   "id": "d47372c7-4f4c-4fad-bb89-9b5225e0d305",
   "metadata": {},
   "outputs": [
    {
     "data": {
      "text/plain": [
       "brand\n",
       "Maruti           2448\n",
       "Hyundai          1415\n",
       "Mahindra          772\n",
       "Tata              734\n",
       "Toyota            488\n",
       "Honda             467\n",
       "Ford              397\n",
       "Chevrolet         230\n",
       "Renault           228\n",
       "Volkswagen        186\n",
       "BMW               120\n",
       "Skoda             105\n",
       "Nissan             81\n",
       "Jaguar             71\n",
       "Volvo              67\n",
       "Datsun             65\n",
       "Mercedes-Benz      54\n",
       "Fiat               47\n",
       "Audi               40\n",
       "Lexus              34\n",
       "Jeep               31\n",
       "Mitsubishi         14\n",
       "Force               6\n",
       "Land                6\n",
       "Isuzu               5\n",
       "Kia                 4\n",
       "Ambassador          4\n",
       "Daewoo              3\n",
       "MG                  3\n",
       "Ashok               1\n",
       "Opel                1\n",
       "Peugeot             1\n",
       "Name: count, dtype: int64"
      ]
     },
     "execution_count": 31,
     "metadata": {},
     "output_type": "execute_result"
    }
   ],
   "source": [
    "counts = df['brand'].value_counts()\n",
    "counts"
   ]
  },
  {
   "cell_type": "code",
   "execution_count": 32,
   "id": "655b4643-f5c4-41a0-9a35-30cbc24840be",
   "metadata": {},
   "outputs": [],
   "source": [
    "df['brand'].nunique()\n",
    "threshold = 100"
   ]
  },
  {
   "cell_type": "code",
   "execution_count": 33,
   "id": "7ceee194-0028-4b8f-8117-4ceb37739986",
   "metadata": {},
   "outputs": [],
   "source": [
    "uncommon = counts[counts <= threshold].index"
   ]
  },
  {
   "cell_type": "code",
   "execution_count": 34,
   "id": "cba473ce-1ac5-4cd5-a45c-81bfd2e8871d",
   "metadata": {},
   "outputs": [
    {
     "data": {
      "text/plain": [
       "Index(['Nissan', 'Jaguar', 'Volvo', 'Datsun', 'Mercedes-Benz', 'Fiat', 'Audi',\n",
       "       'Lexus', 'Jeep', 'Mitsubishi', 'Force', 'Land', 'Isuzu', 'Kia',\n",
       "       'Ambassador', 'Daewoo', 'MG', 'Ashok', 'Opel', 'Peugeot'],\n",
       "      dtype='object', name='brand')"
      ]
     },
     "execution_count": 34,
     "metadata": {},
     "output_type": "execute_result"
    }
   ],
   "source": [
    "uncommon"
   ]
  },
  {
   "cell_type": "code",
   "execution_count": 35,
   "id": "80de1a57-8d76-4ff4-8b73-47199d4f66a8",
   "metadata": {},
   "outputs": [
    {
     "data": {
      "text/plain": [
       "20"
      ]
     },
     "execution_count": 35,
     "metadata": {},
     "output_type": "execute_result"
    }
   ],
   "source": [
    "len(uncommon)"
   ]
  },
  {
   "cell_type": "code",
   "execution_count": 36,
   "id": "c97abd4c-fc58-4578-9420-ada5955b3e78",
   "metadata": {},
   "outputs": [
    {
     "data": {
      "text/html": [
       "<div>\n",
       "<style scoped>\n",
       "    .dataframe tbody tr th:only-of-type {\n",
       "        vertical-align: middle;\n",
       "    }\n",
       "\n",
       "    .dataframe tbody tr th {\n",
       "        vertical-align: top;\n",
       "    }\n",
       "\n",
       "    .dataframe thead th {\n",
       "        text-align: right;\n",
       "    }\n",
       "</style>\n",
       "<table border=\"1\" class=\"dataframe\">\n",
       "  <thead>\n",
       "    <tr style=\"text-align: right;\">\n",
       "      <th></th>\n",
       "      <th>Ambassador</th>\n",
       "      <th>Ashok</th>\n",
       "      <th>Audi</th>\n",
       "      <th>BMW</th>\n",
       "      <th>Chevrolet</th>\n",
       "      <th>Daewoo</th>\n",
       "      <th>Datsun</th>\n",
       "      <th>Fiat</th>\n",
       "      <th>Force</th>\n",
       "      <th>Ford</th>\n",
       "      <th>...</th>\n",
       "      <th>Mitsubishi</th>\n",
       "      <th>Nissan</th>\n",
       "      <th>Opel</th>\n",
       "      <th>Peugeot</th>\n",
       "      <th>Renault</th>\n",
       "      <th>Skoda</th>\n",
       "      <th>Tata</th>\n",
       "      <th>Toyota</th>\n",
       "      <th>Volkswagen</th>\n",
       "      <th>Volvo</th>\n",
       "    </tr>\n",
       "  </thead>\n",
       "  <tbody>\n",
       "    <tr>\n",
       "      <th>5379</th>\n",
       "      <td>0</td>\n",
       "      <td>0</td>\n",
       "      <td>0</td>\n",
       "      <td>0</td>\n",
       "      <td>0</td>\n",
       "      <td>0</td>\n",
       "      <td>0</td>\n",
       "      <td>0</td>\n",
       "      <td>0</td>\n",
       "      <td>0</td>\n",
       "      <td>...</td>\n",
       "      <td>0</td>\n",
       "      <td>0</td>\n",
       "      <td>0</td>\n",
       "      <td>0</td>\n",
       "      <td>0</td>\n",
       "      <td>0</td>\n",
       "      <td>0</td>\n",
       "      <td>0</td>\n",
       "      <td>0</td>\n",
       "      <td>0</td>\n",
       "    </tr>\n",
       "    <tr>\n",
       "      <th>1931</th>\n",
       "      <td>0</td>\n",
       "      <td>0</td>\n",
       "      <td>0</td>\n",
       "      <td>0</td>\n",
       "      <td>0</td>\n",
       "      <td>0</td>\n",
       "      <td>0</td>\n",
       "      <td>0</td>\n",
       "      <td>0</td>\n",
       "      <td>0</td>\n",
       "      <td>...</td>\n",
       "      <td>0</td>\n",
       "      <td>0</td>\n",
       "      <td>0</td>\n",
       "      <td>0</td>\n",
       "      <td>0</td>\n",
       "      <td>0</td>\n",
       "      <td>0</td>\n",
       "      <td>0</td>\n",
       "      <td>0</td>\n",
       "      <td>0</td>\n",
       "    </tr>\n",
       "    <tr>\n",
       "      <th>3721</th>\n",
       "      <td>0</td>\n",
       "      <td>0</td>\n",
       "      <td>0</td>\n",
       "      <td>0</td>\n",
       "      <td>0</td>\n",
       "      <td>0</td>\n",
       "      <td>0</td>\n",
       "      <td>0</td>\n",
       "      <td>0</td>\n",
       "      <td>0</td>\n",
       "      <td>...</td>\n",
       "      <td>0</td>\n",
       "      <td>0</td>\n",
       "      <td>0</td>\n",
       "      <td>0</td>\n",
       "      <td>0</td>\n",
       "      <td>0</td>\n",
       "      <td>0</td>\n",
       "      <td>0</td>\n",
       "      <td>0</td>\n",
       "      <td>0</td>\n",
       "    </tr>\n",
       "    <tr>\n",
       "      <th>2661</th>\n",
       "      <td>0</td>\n",
       "      <td>0</td>\n",
       "      <td>0</td>\n",
       "      <td>0</td>\n",
       "      <td>0</td>\n",
       "      <td>0</td>\n",
       "      <td>0</td>\n",
       "      <td>0</td>\n",
       "      <td>0</td>\n",
       "      <td>0</td>\n",
       "      <td>...</td>\n",
       "      <td>0</td>\n",
       "      <td>0</td>\n",
       "      <td>0</td>\n",
       "      <td>0</td>\n",
       "      <td>0</td>\n",
       "      <td>0</td>\n",
       "      <td>0</td>\n",
       "      <td>0</td>\n",
       "      <td>0</td>\n",
       "      <td>0</td>\n",
       "    </tr>\n",
       "    <tr>\n",
       "      <th>5046</th>\n",
       "      <td>0</td>\n",
       "      <td>0</td>\n",
       "      <td>0</td>\n",
       "      <td>0</td>\n",
       "      <td>0</td>\n",
       "      <td>0</td>\n",
       "      <td>0</td>\n",
       "      <td>0</td>\n",
       "      <td>0</td>\n",
       "      <td>1</td>\n",
       "      <td>...</td>\n",
       "      <td>0</td>\n",
       "      <td>0</td>\n",
       "      <td>0</td>\n",
       "      <td>0</td>\n",
       "      <td>0</td>\n",
       "      <td>0</td>\n",
       "      <td>0</td>\n",
       "      <td>0</td>\n",
       "      <td>0</td>\n",
       "      <td>0</td>\n",
       "    </tr>\n",
       "  </tbody>\n",
       "</table>\n",
       "<p>5 rows × 32 columns</p>\n",
       "</div>"
      ],
      "text/plain": [
       "      Ambassador  Ashok  Audi  BMW  Chevrolet  Daewoo  Datsun  Fiat  Force  \\\n",
       "5379           0      0     0    0          0       0       0     0      0   \n",
       "1931           0      0     0    0          0       0       0     0      0   \n",
       "3721           0      0     0    0          0       0       0     0      0   \n",
       "2661           0      0     0    0          0       0       0     0      0   \n",
       "5046           0      0     0    0          0       0       0     0      0   \n",
       "\n",
       "      Ford  ...  Mitsubishi  Nissan  Opel  Peugeot  Renault  Skoda  Tata  \\\n",
       "5379     0  ...           0       0     0        0        0      0     0   \n",
       "1931     0  ...           0       0     0        0        0      0     0   \n",
       "3721     0  ...           0       0     0        0        0      0     0   \n",
       "2661     0  ...           0       0     0        0        0      0     0   \n",
       "5046     1  ...           0       0     0        0        0      0     0   \n",
       "\n",
       "      Toyota  Volkswagen  Volvo  \n",
       "5379       0           0      0  \n",
       "1931       0           0      0  \n",
       "3721       0           0      0  \n",
       "2661       0           0      0  \n",
       "5046       0           0      0  \n",
       "\n",
       "[5 rows x 32 columns]"
      ]
     },
     "execution_count": 36,
     "metadata": {},
     "output_type": "execute_result"
    }
   ],
   "source": [
    "pd.get_dummies((df['brand']), dtype=int).sample(5)"
   ]
  },
  {
   "cell_type": "code",
   "execution_count": 37,
   "id": "74f2066b-8812-4c38-85af-d6bb85a40bf9",
   "metadata": {},
   "outputs": [],
   "source": [
    "brand_train = pd.get_dummies(x_train['brand'].replace(uncommon,'uncommon'), dtype=int)"
   ]
  },
  {
   "cell_type": "code",
   "execution_count": 38,
   "id": "151409e7-fbb4-40d8-be4c-1d78da466e29",
   "metadata": {},
   "outputs": [
    {
     "data": {
      "text/html": [
       "<div>\n",
       "<style scoped>\n",
       "    .dataframe tbody tr th:only-of-type {\n",
       "        vertical-align: middle;\n",
       "    }\n",
       "\n",
       "    .dataframe tbody tr th {\n",
       "        vertical-align: top;\n",
       "    }\n",
       "\n",
       "    .dataframe thead th {\n",
       "        text-align: right;\n",
       "    }\n",
       "</style>\n",
       "<table border=\"1\" class=\"dataframe\">\n",
       "  <thead>\n",
       "    <tr style=\"text-align: right;\">\n",
       "      <th></th>\n",
       "      <th>BMW</th>\n",
       "      <th>Chevrolet</th>\n",
       "      <th>Ford</th>\n",
       "      <th>Honda</th>\n",
       "      <th>Hyundai</th>\n",
       "      <th>Mahindra</th>\n",
       "      <th>Maruti</th>\n",
       "      <th>Renault</th>\n",
       "      <th>Skoda</th>\n",
       "      <th>Tata</th>\n",
       "      <th>Toyota</th>\n",
       "      <th>Volkswagen</th>\n",
       "      <th>uncommon</th>\n",
       "    </tr>\n",
       "  </thead>\n",
       "  <tbody>\n",
       "    <tr>\n",
       "      <th>5181</th>\n",
       "      <td>0</td>\n",
       "      <td>0</td>\n",
       "      <td>0</td>\n",
       "      <td>0</td>\n",
       "      <td>0</td>\n",
       "      <td>0</td>\n",
       "      <td>0</td>\n",
       "      <td>1</td>\n",
       "      <td>0</td>\n",
       "      <td>0</td>\n",
       "      <td>0</td>\n",
       "      <td>0</td>\n",
       "      <td>0</td>\n",
       "    </tr>\n",
       "    <tr>\n",
       "      <th>2024</th>\n",
       "      <td>0</td>\n",
       "      <td>0</td>\n",
       "      <td>0</td>\n",
       "      <td>0</td>\n",
       "      <td>0</td>\n",
       "      <td>0</td>\n",
       "      <td>0</td>\n",
       "      <td>0</td>\n",
       "      <td>0</td>\n",
       "      <td>1</td>\n",
       "      <td>0</td>\n",
       "      <td>0</td>\n",
       "      <td>0</td>\n",
       "    </tr>\n",
       "    <tr>\n",
       "      <th>6203</th>\n",
       "      <td>0</td>\n",
       "      <td>0</td>\n",
       "      <td>0</td>\n",
       "      <td>0</td>\n",
       "      <td>0</td>\n",
       "      <td>0</td>\n",
       "      <td>0</td>\n",
       "      <td>0</td>\n",
       "      <td>1</td>\n",
       "      <td>0</td>\n",
       "      <td>0</td>\n",
       "      <td>0</td>\n",
       "      <td>0</td>\n",
       "    </tr>\n",
       "    <tr>\n",
       "      <th>7026</th>\n",
       "      <td>0</td>\n",
       "      <td>0</td>\n",
       "      <td>0</td>\n",
       "      <td>0</td>\n",
       "      <td>0</td>\n",
       "      <td>0</td>\n",
       "      <td>0</td>\n",
       "      <td>0</td>\n",
       "      <td>0</td>\n",
       "      <td>1</td>\n",
       "      <td>0</td>\n",
       "      <td>0</td>\n",
       "      <td>0</td>\n",
       "    </tr>\n",
       "    <tr>\n",
       "      <th>5837</th>\n",
       "      <td>0</td>\n",
       "      <td>0</td>\n",
       "      <td>0</td>\n",
       "      <td>0</td>\n",
       "      <td>0</td>\n",
       "      <td>0</td>\n",
       "      <td>0</td>\n",
       "      <td>0</td>\n",
       "      <td>0</td>\n",
       "      <td>1</td>\n",
       "      <td>0</td>\n",
       "      <td>0</td>\n",
       "      <td>0</td>\n",
       "    </tr>\n",
       "  </tbody>\n",
       "</table>\n",
       "</div>"
      ],
      "text/plain": [
       "      BMW  Chevrolet  Ford  Honda  Hyundai  Mahindra  Maruti  Renault  Skoda  \\\n",
       "5181    0          0     0      0        0         0       0        1      0   \n",
       "2024    0          0     0      0        0         0       0        0      0   \n",
       "6203    0          0     0      0        0         0       0        0      1   \n",
       "7026    0          0     0      0        0         0       0        0      0   \n",
       "5837    0          0     0      0        0         0       0        0      0   \n",
       "\n",
       "      Tata  Toyota  Volkswagen  uncommon  \n",
       "5181     0       0           0         0  \n",
       "2024     1       0           0         0  \n",
       "6203     0       0           0         0  \n",
       "7026     1       0           0         0  \n",
       "5837     1       0           0         0  "
      ]
     },
     "execution_count": 38,
     "metadata": {},
     "output_type": "execute_result"
    }
   ],
   "source": [
    "brand_train.head()"
   ]
  },
  {
   "cell_type": "code",
   "execution_count": 39,
   "id": "8a399cb7-216d-4763-aa8c-dc42ae7f26ae",
   "metadata": {},
   "outputs": [
    {
     "data": {
      "text/plain": [
       "(6502, 13)"
      ]
     },
     "execution_count": 39,
     "metadata": {},
     "output_type": "execute_result"
    }
   ],
   "source": [
    "brand_train.shape"
   ]
  },
  {
   "cell_type": "code",
   "execution_count": 40,
   "id": "e8882413-734c-49ab-8700-e911f9559638",
   "metadata": {},
   "outputs": [
    {
     "data": {
      "text/html": [
       "<div>\n",
       "<style scoped>\n",
       "    .dataframe tbody tr th:only-of-type {\n",
       "        vertical-align: middle;\n",
       "    }\n",
       "\n",
       "    .dataframe tbody tr th {\n",
       "        vertical-align: top;\n",
       "    }\n",
       "\n",
       "    .dataframe thead th {\n",
       "        text-align: right;\n",
       "    }\n",
       "</style>\n",
       "<table border=\"1\" class=\"dataframe\">\n",
       "  <thead>\n",
       "    <tr style=\"text-align: right;\">\n",
       "      <th></th>\n",
       "      <th>BMW</th>\n",
       "      <th>Chevrolet</th>\n",
       "      <th>Ford</th>\n",
       "      <th>Honda</th>\n",
       "      <th>Hyundai</th>\n",
       "      <th>Mahindra</th>\n",
       "      <th>Maruti</th>\n",
       "      <th>Renault</th>\n",
       "      <th>Skoda</th>\n",
       "      <th>Tata</th>\n",
       "      <th>Toyota</th>\n",
       "      <th>Volkswagen</th>\n",
       "      <th>uncommon</th>\n",
       "    </tr>\n",
       "  </thead>\n",
       "  <tbody>\n",
       "    <tr>\n",
       "      <th>1460</th>\n",
       "      <td>0</td>\n",
       "      <td>0</td>\n",
       "      <td>0</td>\n",
       "      <td>0</td>\n",
       "      <td>0</td>\n",
       "      <td>0</td>\n",
       "      <td>1</td>\n",
       "      <td>0</td>\n",
       "      <td>0</td>\n",
       "      <td>0</td>\n",
       "      <td>0</td>\n",
       "      <td>0</td>\n",
       "      <td>0</td>\n",
       "    </tr>\n",
       "    <tr>\n",
       "      <th>3293</th>\n",
       "      <td>0</td>\n",
       "      <td>0</td>\n",
       "      <td>0</td>\n",
       "      <td>0</td>\n",
       "      <td>0</td>\n",
       "      <td>0</td>\n",
       "      <td>0</td>\n",
       "      <td>1</td>\n",
       "      <td>0</td>\n",
       "      <td>0</td>\n",
       "      <td>0</td>\n",
       "      <td>0</td>\n",
       "      <td>0</td>\n",
       "    </tr>\n",
       "    <tr>\n",
       "      <th>738</th>\n",
       "      <td>0</td>\n",
       "      <td>0</td>\n",
       "      <td>0</td>\n",
       "      <td>0</td>\n",
       "      <td>0</td>\n",
       "      <td>0</td>\n",
       "      <td>0</td>\n",
       "      <td>1</td>\n",
       "      <td>0</td>\n",
       "      <td>0</td>\n",
       "      <td>0</td>\n",
       "      <td>0</td>\n",
       "      <td>0</td>\n",
       "    </tr>\n",
       "    <tr>\n",
       "      <th>1415</th>\n",
       "      <td>0</td>\n",
       "      <td>0</td>\n",
       "      <td>0</td>\n",
       "      <td>0</td>\n",
       "      <td>0</td>\n",
       "      <td>0</td>\n",
       "      <td>0</td>\n",
       "      <td>0</td>\n",
       "      <td>0</td>\n",
       "      <td>0</td>\n",
       "      <td>0</td>\n",
       "      <td>1</td>\n",
       "      <td>0</td>\n",
       "    </tr>\n",
       "    <tr>\n",
       "      <th>1600</th>\n",
       "      <td>0</td>\n",
       "      <td>0</td>\n",
       "      <td>0</td>\n",
       "      <td>0</td>\n",
       "      <td>0</td>\n",
       "      <td>0</td>\n",
       "      <td>0</td>\n",
       "      <td>0</td>\n",
       "      <td>0</td>\n",
       "      <td>1</td>\n",
       "      <td>0</td>\n",
       "      <td>0</td>\n",
       "      <td>0</td>\n",
       "    </tr>\n",
       "  </tbody>\n",
       "</table>\n",
       "</div>"
      ],
      "text/plain": [
       "      BMW  Chevrolet  Ford  Honda  Hyundai  Mahindra  Maruti  Renault  Skoda  \\\n",
       "1460    0          0     0      0        0         0       1        0      0   \n",
       "3293    0          0     0      0        0         0       0        1      0   \n",
       "738     0          0     0      0        0         0       0        1      0   \n",
       "1415    0          0     0      0        0         0       0        0      0   \n",
       "1600    0          0     0      0        0         0       0        0      0   \n",
       "\n",
       "      Tata  Toyota  Volkswagen  uncommon  \n",
       "1460     0       0           0         0  \n",
       "3293     0       0           0         0  \n",
       "738      0       0           0         0  \n",
       "1415     0       0           1         0  \n",
       "1600     1       0           0         0  "
      ]
     },
     "execution_count": 40,
     "metadata": {},
     "output_type": "execute_result"
    }
   ],
   "source": [
    "brand_test = pd.get_dummies(x_test['brand'].replace(uncommon,'uncommon'), dtype=int)\n",
    "brand_test.head()"
   ]
  },
  {
   "cell_type": "code",
   "execution_count": 41,
   "id": "4b8674d2-b967-4721-8a1d-467890f19c37",
   "metadata": {},
   "outputs": [
    {
     "data": {
      "text/plain": [
       "(1626, 13)"
      ]
     },
     "execution_count": 41,
     "metadata": {},
     "output_type": "execute_result"
    }
   ],
   "source": [
    "brand_test.shape"
   ]
  },
  {
   "cell_type": "code",
   "execution_count": 42,
   "id": "66297fd0-2a60-4f48-a306-8fdc059069ef",
   "metadata": {},
   "outputs": [],
   "source": [
    "x_train_encoded = np.hstack((x_train[['km_driven']].values, x_train_new, brand_train))"
   ]
  },
  {
   "cell_type": "code",
   "execution_count": 43,
   "id": "9d560ceb-268d-4e3d-a77e-581092897a8a",
   "metadata": {},
   "outputs": [
    {
     "data": {
      "text/plain": [
       "(6502, 21)"
      ]
     },
     "execution_count": 43,
     "metadata": {},
     "output_type": "execute_result"
    }
   ],
   "source": [
    "x_train_encoded.shape"
   ]
  },
  {
   "cell_type": "code",
   "execution_count": 44,
   "id": "7c5e898e-689c-4d72-abaf-d730794d3a36",
   "metadata": {},
   "outputs": [],
   "source": [
    "x_test_encoded = np.hstack((x_test[['km_driven']].values, x_test_new, brand_test))"
   ]
  },
  {
   "cell_type": "code",
   "execution_count": 45,
   "id": "e9b6ad9f-c39c-41c9-85ee-246e52cd3667",
   "metadata": {},
   "outputs": [
    {
     "data": {
      "text/plain": [
       "(1626, 21)"
      ]
     },
     "execution_count": 45,
     "metadata": {},
     "output_type": "execute_result"
    }
   ],
   "source": [
    "x_test_encoded.shape"
   ]
  },
  {
   "cell_type": "markdown",
   "id": "4fba35a7-c11e-4b64-bf39-60d5ba1022d4",
   "metadata": {},
   "source": [
    "#### for more easy way, pass brand in x_test_new when fuel and owner were encoded"
   ]
  },
  {
   "cell_type": "code",
   "execution_count": 46,
   "id": "a8719d14-1b46-469c-93c1-cbec1ffd0a11",
   "metadata": {},
   "outputs": [],
   "source": [
    "from sklearn.linear_model import LinearRegression\n",
    "model = LinearRegression()"
   ]
  },
  {
   "cell_type": "code",
   "execution_count": 47,
   "id": "39ca623b-1ce0-4907-a9b9-12c55f39f3ce",
   "metadata": {},
   "outputs": [
    {
     "data": {
      "text/html": [
       "<style>#sk-container-id-2 {color: black;background-color: white;}#sk-container-id-2 pre{padding: 0;}#sk-container-id-2 div.sk-toggleable {background-color: white;}#sk-container-id-2 label.sk-toggleable__label {cursor: pointer;display: block;width: 100%;margin-bottom: 0;padding: 0.3em;box-sizing: border-box;text-align: center;}#sk-container-id-2 label.sk-toggleable__label-arrow:before {content: \"▸\";float: left;margin-right: 0.25em;color: #696969;}#sk-container-id-2 label.sk-toggleable__label-arrow:hover:before {color: black;}#sk-container-id-2 div.sk-estimator:hover label.sk-toggleable__label-arrow:before {color: black;}#sk-container-id-2 div.sk-toggleable__content {max-height: 0;max-width: 0;overflow: hidden;text-align: left;background-color: #f0f8ff;}#sk-container-id-2 div.sk-toggleable__content pre {margin: 0.2em;color: black;border-radius: 0.25em;background-color: #f0f8ff;}#sk-container-id-2 input.sk-toggleable__control:checked~div.sk-toggleable__content {max-height: 200px;max-width: 100%;overflow: auto;}#sk-container-id-2 input.sk-toggleable__control:checked~label.sk-toggleable__label-arrow:before {content: \"▾\";}#sk-container-id-2 div.sk-estimator input.sk-toggleable__control:checked~label.sk-toggleable__label {background-color: #d4ebff;}#sk-container-id-2 div.sk-label input.sk-toggleable__control:checked~label.sk-toggleable__label {background-color: #d4ebff;}#sk-container-id-2 input.sk-hidden--visually {border: 0;clip: rect(1px 1px 1px 1px);clip: rect(1px, 1px, 1px, 1px);height: 1px;margin: -1px;overflow: hidden;padding: 0;position: absolute;width: 1px;}#sk-container-id-2 div.sk-estimator {font-family: monospace;background-color: #f0f8ff;border: 1px dotted black;border-radius: 0.25em;box-sizing: border-box;margin-bottom: 0.5em;}#sk-container-id-2 div.sk-estimator:hover {background-color: #d4ebff;}#sk-container-id-2 div.sk-parallel-item::after {content: \"\";width: 100%;border-bottom: 1px solid gray;flex-grow: 1;}#sk-container-id-2 div.sk-label:hover label.sk-toggleable__label {background-color: #d4ebff;}#sk-container-id-2 div.sk-serial::before {content: \"\";position: absolute;border-left: 1px solid gray;box-sizing: border-box;top: 0;bottom: 0;left: 50%;z-index: 0;}#sk-container-id-2 div.sk-serial {display: flex;flex-direction: column;align-items: center;background-color: white;padding-right: 0.2em;padding-left: 0.2em;position: relative;}#sk-container-id-2 div.sk-item {position: relative;z-index: 1;}#sk-container-id-2 div.sk-parallel {display: flex;align-items: stretch;justify-content: center;background-color: white;position: relative;}#sk-container-id-2 div.sk-item::before, #sk-container-id-2 div.sk-parallel-item::before {content: \"\";position: absolute;border-left: 1px solid gray;box-sizing: border-box;top: 0;bottom: 0;left: 50%;z-index: -1;}#sk-container-id-2 div.sk-parallel-item {display: flex;flex-direction: column;z-index: 1;position: relative;background-color: white;}#sk-container-id-2 div.sk-parallel-item:first-child::after {align-self: flex-end;width: 50%;}#sk-container-id-2 div.sk-parallel-item:last-child::after {align-self: flex-start;width: 50%;}#sk-container-id-2 div.sk-parallel-item:only-child::after {width: 0;}#sk-container-id-2 div.sk-dashed-wrapped {border: 1px dashed gray;margin: 0 0.4em 0.5em 0.4em;box-sizing: border-box;padding-bottom: 0.4em;background-color: white;}#sk-container-id-2 div.sk-label label {font-family: monospace;font-weight: bold;display: inline-block;line-height: 1.2em;}#sk-container-id-2 div.sk-label-container {text-align: center;}#sk-container-id-2 div.sk-container {/* jupyter's `normalize.less` sets `[hidden] { display: none; }` but bootstrap.min.css set `[hidden] { display: none !important; }` so we also need the `!important` here to be able to override the default hidden behavior on the sphinx rendered scikit-learn.org. See: https://github.com/scikit-learn/scikit-learn/issues/21755 */display: inline-block !important;position: relative;}#sk-container-id-2 div.sk-text-repr-fallback {display: none;}</style><div id=\"sk-container-id-2\" class=\"sk-top-container\"><div class=\"sk-text-repr-fallback\"><pre>LinearRegression()</pre><b>In a Jupyter environment, please rerun this cell to show the HTML representation or trust the notebook. <br />On GitHub, the HTML representation is unable to render, please try loading this page with nbviewer.org.</b></div><div class=\"sk-container\" hidden><div class=\"sk-item\"><div class=\"sk-estimator sk-toggleable\"><input class=\"sk-toggleable__control sk-hidden--visually\" id=\"sk-estimator-id-2\" type=\"checkbox\" checked><label for=\"sk-estimator-id-2\" class=\"sk-toggleable__label sk-toggleable__label-arrow\">LinearRegression</label><div class=\"sk-toggleable__content\"><pre>LinearRegression()</pre></div></div></div></div></div>"
      ],
      "text/plain": [
       "LinearRegression()"
      ]
     },
     "execution_count": 47,
     "metadata": {},
     "output_type": "execute_result"
    }
   ],
   "source": [
    "model.fit(x_train_encoded, y_train)"
   ]
  },
  {
   "cell_type": "code",
   "execution_count": 48,
   "id": "22b66543-5596-475a-8d1a-de226901136e",
   "metadata": {},
   "outputs": [
    {
     "data": {
      "text/plain": [
       "array([487556.30525973, 431677.06653636, 442132.0644478 , ...,\n",
       "       307532.03943507, 383357.59456209, 738477.87821539])"
      ]
     },
     "execution_count": 48,
     "metadata": {},
     "output_type": "execute_result"
    }
   ],
   "source": [
    "y_pred = model.predict(x_test_encoded)\n",
    "y_pred"
   ]
  },
  {
   "cell_type": "code",
   "execution_count": 49,
   "id": "2c2aeab7-c070-435b-bdb4-5f0fcb98cedd",
   "metadata": {},
   "outputs": [
    {
     "data": {
      "text/html": [
       "<div>\n",
       "<style scoped>\n",
       "    .dataframe tbody tr th:only-of-type {\n",
       "        vertical-align: middle;\n",
       "    }\n",
       "\n",
       "    .dataframe tbody tr th {\n",
       "        vertical-align: top;\n",
       "    }\n",
       "\n",
       "    .dataframe thead th {\n",
       "        text-align: right;\n",
       "    }\n",
       "</style>\n",
       "<table border=\"1\" class=\"dataframe\">\n",
       "  <thead>\n",
       "    <tr style=\"text-align: right;\">\n",
       "      <th></th>\n",
       "      <th>y_test</th>\n",
       "      <th>y_predict</th>\n",
       "    </tr>\n",
       "  </thead>\n",
       "  <tbody>\n",
       "    <tr>\n",
       "      <th>1460</th>\n",
       "      <td>560000</td>\n",
       "      <td>487556.305260</td>\n",
       "    </tr>\n",
       "    <tr>\n",
       "      <th>3293</th>\n",
       "      <td>450000</td>\n",
       "      <td>431677.066536</td>\n",
       "    </tr>\n",
       "    <tr>\n",
       "      <th>738</th>\n",
       "      <td>300000</td>\n",
       "      <td>442132.064448</td>\n",
       "    </tr>\n",
       "    <tr>\n",
       "      <th>1415</th>\n",
       "      <td>229999</td>\n",
       "      <td>385009.228867</td>\n",
       "    </tr>\n",
       "    <tr>\n",
       "      <th>1600</th>\n",
       "      <td>850000</td>\n",
       "      <td>468780.145418</td>\n",
       "    </tr>\n",
       "    <tr>\n",
       "      <th>...</th>\n",
       "      <td>...</td>\n",
       "      <td>...</td>\n",
       "    </tr>\n",
       "    <tr>\n",
       "      <th>2393</th>\n",
       "      <td>500000</td>\n",
       "      <td>537190.725070</td>\n",
       "    </tr>\n",
       "    <tr>\n",
       "      <th>5795</th>\n",
       "      <td>600000</td>\n",
       "      <td>799554.551733</td>\n",
       "    </tr>\n",
       "    <tr>\n",
       "      <th>1023</th>\n",
       "      <td>300000</td>\n",
       "      <td>307532.039435</td>\n",
       "    </tr>\n",
       "    <tr>\n",
       "      <th>4657</th>\n",
       "      <td>600000</td>\n",
       "      <td>383357.594562</td>\n",
       "    </tr>\n",
       "    <tr>\n",
       "      <th>6362</th>\n",
       "      <td>620000</td>\n",
       "      <td>738477.878215</td>\n",
       "    </tr>\n",
       "  </tbody>\n",
       "</table>\n",
       "<p>1626 rows × 2 columns</p>\n",
       "</div>"
      ],
      "text/plain": [
       "      y_test      y_predict\n",
       "1460  560000  487556.305260\n",
       "3293  450000  431677.066536\n",
       "738   300000  442132.064448\n",
       "1415  229999  385009.228867\n",
       "1600  850000  468780.145418\n",
       "...      ...            ...\n",
       "2393  500000  537190.725070\n",
       "5795  600000  799554.551733\n",
       "1023  300000  307532.039435\n",
       "4657  600000  383357.594562\n",
       "6362  620000  738477.878215\n",
       "\n",
       "[1626 rows x 2 columns]"
      ]
     },
     "execution_count": 49,
     "metadata": {},
     "output_type": "execute_result"
    }
   ],
   "source": [
    "pd.DataFrame({'y_test':y_test, 'y_predict':y_pred})"
   ]
  },
  {
   "cell_type": "code",
   "execution_count": 50,
   "id": "8fe88f1b-3e9c-4bc2-94dd-a8c5a7974676",
   "metadata": {},
   "outputs": [
    {
     "name": "stdout",
     "output_type": "stream",
     "text": [
      "MSE: 288414673621.554\n",
      "RMSE: 537042.5249657182\n",
      "R2_Score: 0.5746046781775116\n"
     ]
    }
   ],
   "source": [
    "from sklearn.metrics import mean_squared_error, r2_score\n",
    "print('MSE:', mean_squared_error(y_test, y_pred))\n",
    "print('RMSE:', np.sqrt(mean_squared_error(y_test, y_pred)))\n",
    "print('R2_Score:', r2_score(y_test, y_pred))"
   ]
  },
  {
   "cell_type": "code",
   "execution_count": null,
   "id": "a9d969a5-118c-4e3c-baf5-22b00158e297",
   "metadata": {},
   "outputs": [],
   "source": []
  }
 ],
 "metadata": {
  "kernelspec": {
   "display_name": "Python 3 (ipykernel)",
   "language": "python",
   "name": "python3"
  },
  "language_info": {
   "codemirror_mode": {
    "name": "ipython",
    "version": 3
   },
   "file_extension": ".py",
   "mimetype": "text/x-python",
   "name": "python",
   "nbconvert_exporter": "python",
   "pygments_lexer": "ipython3",
   "version": "3.11.7"
  },
  "widgets": {
   "application/vnd.jupyter.widget-state+json": {
    "state": {},
    "version_major": 2,
    "version_minor": 0
   }
  }
 },
 "nbformat": 4,
 "nbformat_minor": 5
}
